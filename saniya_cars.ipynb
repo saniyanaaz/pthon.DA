{
  "nbformat": 4,
  "nbformat_minor": 0,
  "metadata": {
    "colab": {
      "provenance": [],
      "authorship_tag": "ABX9TyMWO9NB0lyDSafVxumE9kde",
      "include_colab_link": true
    },
    "kernelspec": {
      "name": "python3",
      "display_name": "Python 3"
    },
    "language_info": {
      "name": "python"
    }
  },
  "cells": [
    {
      "cell_type": "markdown",
      "metadata": {
        "id": "view-in-github",
        "colab_type": "text"
      },
      "source": [
        "<a href=\"https://colab.research.google.com/github/saniyanaaz/pthon.DA/blob/main/saniya_cars.ipynb\" target=\"_parent\"><img src=\"https://colab.research.google.com/assets/colab-badge.svg\" alt=\"Open In Colab\"/></a>"
      ]
    },
    {
      "cell_type": "code",
      "execution_count": null,
      "metadata": {
        "colab": {
          "base_uri": "https://localhost:8080/"
        },
        "id": "99QwW40vmqMI",
        "outputId": "01404ec0-c9cc-4b0b-939b-1695b8af9def"
      },
      "outputs": [
        {
          "output_type": "stream",
          "name": "stdout",
          "text": [
            "  Car_Name  Year  Selling_Price  Present_Price  Kms_Driven Fuel_Type  \\\n",
            "0     ritz  2014           3.35           5.59       27000    Petrol   \n",
            "1      sx4  2013           4.75           9.54       43000    Diesel   \n",
            "2     ciaz  2017           7.25           9.85        6900    Petrol   \n",
            "3  wagon r  2011           2.85           4.15        5200    Petrol   \n",
            "4    swift  2014           4.60           6.87       42450    Diesel   \n",
            "\n",
            "  Seller_Type Transmission  Owner  \n",
            "0      Dealer       Manual      0  \n",
            "1      Dealer       Manual      0  \n",
            "2      Dealer       Manual      0  \n",
            "3      Dealer       Manual      0  \n",
            "4      Dealer       Manual      0  \n"
          ]
        }
      ],
      "source": [
        "import pandas as pd\n",
        "df=pd.read_csv(\"car data.csv\")\n",
        "print(df.head(5))\n"
      ]
    },
    {
      "cell_type": "code",
      "source": [
        "data=df.dropna()\n",
        "print(data)\n",
        "df.info()"
      ],
      "metadata": {
        "colab": {
          "base_uri": "https://localhost:8080/"
        },
        "id": "Q2PNmRHWns8F",
        "outputId": "faad544c-6f33-48dc-ec87-6c096e9aaf6a"
      },
      "execution_count": null,
      "outputs": [
        {
          "output_type": "stream",
          "name": "stdout",
          "text": [
            "    Car_Name  Year  Selling_Price  Present_Price  Kms_Driven Fuel_Type  \\\n",
            "0       ritz  2014           3.35           5.59       27000    Petrol   \n",
            "1        sx4  2013           4.75           9.54       43000    Diesel   \n",
            "2       ciaz  2017           7.25           9.85        6900    Petrol   \n",
            "3    wagon r  2011           2.85           4.15        5200    Petrol   \n",
            "4      swift  2014           4.60           6.87       42450    Diesel   \n",
            "..       ...   ...            ...            ...         ...       ...   \n",
            "296     city  2016           9.50          11.60       33988    Diesel   \n",
            "297     brio  2015           4.00           5.90       60000    Petrol   \n",
            "298     city  2009           3.35          11.00       87934    Petrol   \n",
            "299     city  2017          11.50          12.50        9000    Diesel   \n",
            "300     brio  2016           5.30           5.90        5464    Petrol   \n",
            "\n",
            "    Seller_Type Transmission  Owner  \n",
            "0        Dealer       Manual      0  \n",
            "1        Dealer       Manual      0  \n",
            "2        Dealer       Manual      0  \n",
            "3        Dealer       Manual      0  \n",
            "4        Dealer       Manual      0  \n",
            "..          ...          ...    ...  \n",
            "296      Dealer       Manual      0  \n",
            "297      Dealer       Manual      0  \n",
            "298      Dealer       Manual      0  \n",
            "299      Dealer       Manual      0  \n",
            "300      Dealer       Manual      0  \n",
            "\n",
            "[301 rows x 9 columns]\n",
            "<class 'pandas.core.frame.DataFrame'>\n",
            "RangeIndex: 301 entries, 0 to 300\n",
            "Data columns (total 9 columns):\n",
            " #   Column         Non-Null Count  Dtype  \n",
            "---  ------         --------------  -----  \n",
            " 0   Car_Name       301 non-null    object \n",
            " 1   Year           301 non-null    int64  \n",
            " 2   Selling_Price  301 non-null    float64\n",
            " 3   Present_Price  301 non-null    float64\n",
            " 4   Kms_Driven     301 non-null    int64  \n",
            " 5   Fuel_Type      301 non-null    object \n",
            " 6   Seller_Type    301 non-null    object \n",
            " 7   Transmission   301 non-null    object \n",
            " 8   Owner          301 non-null    int64  \n",
            "dtypes: float64(2), int64(3), object(4)\n",
            "memory usage: 21.3+ KB\n"
          ]
        }
      ]
    },
    {
      "cell_type": "code",
      "source": [
        "df.isnull().sum()"
      ],
      "metadata": {
        "colab": {
          "base_uri": "https://localhost:8080/"
        },
        "id": "z44MXFwUn4uw",
        "outputId": "4c314e4c-25db-41a2-8eb5-e7b7d9a768bf"
      },
      "execution_count": null,
      "outputs": [
        {
          "output_type": "execute_result",
          "data": {
            "text/plain": [
              "Car_Name         0\n",
              "Year             0\n",
              "Selling_Price    0\n",
              "Present_Price    0\n",
              "Kms_Driven       0\n",
              "Fuel_Type        0\n",
              "Seller_Type      0\n",
              "Transmission     0\n",
              "Owner            0\n",
              "dtype: int64"
            ]
          },
          "metadata": {},
          "execution_count": 7
        }
      ]
    },
    {
      "cell_type": "code",
      "source": [
        "duplicates=df.duplicated()\n",
        "df.drop_duplicates(inplace=True)\n",
        "num_duplicates=duplicates.sum()\n",
        "print(duplicates)\n"
      ],
      "metadata": {
        "colab": {
          "base_uri": "https://localhost:8080/"
        },
        "id": "S-yOm4uroWuy",
        "outputId": "323075b1-ac3a-42f1-adfb-5c00ffe05da6"
      },
      "execution_count": null,
      "outputs": [
        {
          "output_type": "stream",
          "name": "stdout",
          "text": [
            "0      False\n",
            "1      False\n",
            "2      False\n",
            "3      False\n",
            "4      False\n",
            "       ...  \n",
            "296    False\n",
            "297    False\n",
            "298    False\n",
            "299    False\n",
            "300    False\n",
            "Length: 299, dtype: bool\n"
          ]
        }
      ]
    },
    {
      "cell_type": "code",
      "source": [
        "df=df.sort_index(ascending=[True])\n",
        "df=df.sort_values(['Car_Name'],ascending=[True])\n",
        "print(df)\n",
        "df['Selling_Price']=df['Selling_Price'].astype(int)\n",
        "df['Present_Price']=df['Present_Price'].astype(int)\n",
        "print(df.head)"
      ],
      "metadata": {
        "colab": {
          "base_uri": "https://localhost:8080/"
        },
        "id": "MTxLH0kisj1n",
        "outputId": "ee4ebe31-b874-4c9e-ed1c-d5ef8df8e0d5"
      },
      "execution_count": null,
      "outputs": [
        {
          "output_type": "stream",
          "name": "stdout",
          "text": [
            "          Car_Name  Year  Selling_Price  Present_Price  Kms_Driven Fuel_Type  \\\n",
            "37             800  2003              0              2      127000    Petrol   \n",
            "165      Activa 3g  2016              0              0         500    Petrol   \n",
            "196      Activa 3g  2008              0              0      500000    Petrol   \n",
            "173      Activa 4g  2017              0              0        1300    Petrol   \n",
            "195  Bajaj  ct 100  2015              0              0       35000    Petrol   \n",
            "..             ...   ...            ...            ...         ...       ...   \n",
            "47         wagon r  2006              1              4       65000    Petrol   \n",
            "18         wagon r  2015              3              5       35500       CNG   \n",
            "241          xcent  2015              4              7       35866    Petrol   \n",
            "206          xcent  2017              5              7       12479    Petrol   \n",
            "242          xcent  2014              4              7       34000    Petrol   \n",
            "\n",
            "    Seller_Type Transmission  Owner  \n",
            "37   Individual       Manual      0  \n",
            "165  Individual    Automatic      0  \n",
            "196  Individual    Automatic      0  \n",
            "173  Individual    Automatic      0  \n",
            "195  Individual       Manual      0  \n",
            "..          ...          ...    ...  \n",
            "47       Dealer       Manual      0  \n",
            "18       Dealer       Manual      0  \n",
            "241      Dealer       Manual      1  \n",
            "206      Dealer       Manual      0  \n",
            "242      Dealer       Manual      0  \n",
            "\n",
            "[299 rows x 9 columns]\n",
            "<bound method NDFrame.head of           Car_Name  Year  Selling_Price  Present_Price  Kms_Driven Fuel_Type  \\\n",
            "37             800  2003              0              2      127000    Petrol   \n",
            "165      Activa 3g  2016              0              0         500    Petrol   \n",
            "196      Activa 3g  2008              0              0      500000    Petrol   \n",
            "173      Activa 4g  2017              0              0        1300    Petrol   \n",
            "195  Bajaj  ct 100  2015              0              0       35000    Petrol   \n",
            "..             ...   ...            ...            ...         ...       ...   \n",
            "47         wagon r  2006              1              4       65000    Petrol   \n",
            "18         wagon r  2015              3              5       35500       CNG   \n",
            "241          xcent  2015              4              7       35866    Petrol   \n",
            "206          xcent  2017              5              7       12479    Petrol   \n",
            "242          xcent  2014              4              7       34000    Petrol   \n",
            "\n",
            "    Seller_Type Transmission  Owner  \n",
            "37   Individual       Manual      0  \n",
            "165  Individual    Automatic      0  \n",
            "196  Individual    Automatic      0  \n",
            "173  Individual    Automatic      0  \n",
            "195  Individual       Manual      0  \n",
            "..          ...          ...    ...  \n",
            "47       Dealer       Manual      0  \n",
            "18       Dealer       Manual      0  \n",
            "241      Dealer       Manual      1  \n",
            "206      Dealer       Manual      0  \n",
            "242      Dealer       Manual      0  \n",
            "\n",
            "[299 rows x 9 columns]>\n"
          ]
        }
      ]
    },
    {
      "cell_type": "code",
      "source": [
        "import matplotlib.pyplot as plt\n",
        "\n",
        "# Count the number of cars for each fuel type\n",
        "fuel_counts = df['Fuel_Type'].value_counts()\n",
        "\n",
        "# Create the bar chart\n",
        "plt.bar(fuel_counts.index, fuel_counts.values)\n",
        "plt.xlabel('Fuel Type')\n",
        "plt.ylabel('Count')\n",
        "plt.title('Count of Cars by Fuel Type')\n",
        "\n",
        "# Display the chart\n",
        "plt.show()\n"
      ],
      "metadata": {
        "colab": {
          "base_uri": "https://localhost:8080/",
          "height": 472
        },
        "id": "Etu_VnAnxkwy",
        "outputId": "00a58118-530c-4a45-f4d9-9e1801c55c05"
      },
      "execution_count": null,
      "outputs": [
        {
          "output_type": "display_data",
          "data": {
            "text/plain": [
              "<Figure size 640x480 with 1 Axes>"
            ],
            "image/png": "[encoded data removed]"
          },
          "metadata": {}
        }
      ]
    },
    {
      "cell_type": "code",
      "source": [
        "import matplotlib.pyplot as plt\n",
        "\n",
        "# Create the scatter plot\n",
        "plt.scatter(df['Present_Price'], df['Selling_Price'])\n",
        "plt.xlabel('Present Price')\n",
        "plt.ylabel('Selling Price')\n",
        "plt.title('Scatter Plot: Selling Price vs Present Price')\n",
        "\n",
        "# Display the plot\n",
        "plt.show()\n"
      ],
      "metadata": {
        "colab": {
          "base_uri": "https://localhost:8080/",
          "height": 472
        },
        "id": "Xmpwn56ByPUs",
        "outputId": "cab4689b-0247-4e17-e3fc-1787f6486fd2"
      },
      "execution_count": null,
      "outputs": [
        {
          "output_type": "display_data",
          "data": {
            "text/plain": [
              "<Figure size 640x480 with 1 Axes>"
            ],
            "image/png": "[encoded data removed]"
          },
          "metadata": {}
        }
      ]
    },
    {
      "cell_type": "markdown",
      "source": [
        "CAR DETAILS FROM CAR DEKHO.COM"
      ],
      "metadata": {
        "id": "DI0sGoN502i4"
      }
    },
    {
      "cell_type": "code",
      "source": [
        "import pandas as pd\n",
        "df=pd.read_csv('CAR DETAILS FROM CAR DEKHO.csv')\n",
        "print(df)"
      ],
      "metadata": {
        "colab": {
          "base_uri": "https://localhost:8080/"
        },
        "id": "VVns-Bmh0149",
        "outputId": "153c926b-9dfa-48b8-ba0f-421a0fca15b1"
      },
      "execution_count": null,
      "outputs": [
        {
          "output_type": "stream",
          "name": "stdout",
          "text": [
            "                                     name  year  selling_price  km_driven  \\\n",
            "0                           Maruti 800 AC  2007          60000      70000   \n",
            "1                Maruti Wagon R LXI Minor  2007         135000      50000   \n",
            "2                    Hyundai Verna 1.6 SX  2012         600000     100000   \n",
            "3                  Datsun RediGO T Option  2017         250000      46000   \n",
            "4                   Honda Amaze VX i-DTEC  2014         450000     141000   \n",
            "...                                   ...   ...            ...        ...   \n",
            "4335  Hyundai i20 Magna 1.4 CRDi (Diesel)  2014         409999      80000   \n",
            "4336           Hyundai i20 Magna 1.4 CRDi  2014         409999      80000   \n",
            "4337                  Maruti 800 AC BSIII  2009         110000      83000   \n",
            "4338     Hyundai Creta 1.6 CRDi SX Option  2016         865000      90000   \n",
            "4339                     Renault KWID RXT  2016         225000      40000   \n",
            "\n",
            "        fuel seller_type transmission         owner  \n",
            "0     Petrol  Individual       Manual   First Owner  \n",
            "1     Petrol  Individual       Manual   First Owner  \n",
            "2     Diesel  Individual       Manual   First Owner  \n",
            "3     Petrol  Individual       Manual   First Owner  \n",
            "4     Diesel  Individual       Manual  Second Owner  \n",
            "...      ...         ...          ...           ...  \n",
            "4335  Diesel  Individual       Manual  Second Owner  \n",
            "4336  Diesel  Individual       Manual  Second Owner  \n",
            "4337  Petrol  Individual       Manual  Second Owner  \n",
            "4338  Diesel  Individual       Manual   First Owner  \n",
            "4339  Petrol  Individual       Manual   First Owner  \n",
            "\n",
            "[4340 rows x 8 columns]\n"
          ]
        }
      ]
    },
    {
      "cell_type": "code",
      "source": [
        "data=df.dropna()\n",
        "print(data)\n",
        "print(df.info)"
      ],
      "metadata": {
        "colab": {
          "base_uri": "https://localhost:8080/"
        },
        "id": "z5U1tL8c1ocM",
        "outputId": "3aa42616-38f4-4871-c294-ba17834c7de9"
      },
      "execution_count": null,
      "outputs": [
        {
          "output_type": "stream",
          "name": "stdout",
          "text": [
            "                                     name  year  selling_price  km_driven  \\\n",
            "0                           Maruti 800 AC  2007          60000      70000   \n",
            "1                Maruti Wagon R LXI Minor  2007         135000      50000   \n",
            "2                    Hyundai Verna 1.6 SX  2012         600000     100000   \n",
            "3                  Datsun RediGO T Option  2017         250000      46000   \n",
            "4                   Honda Amaze VX i-DTEC  2014         450000     141000   \n",
            "...                                   ...   ...            ...        ...   \n",
            "4335  Hyundai i20 Magna 1.4 CRDi (Diesel)  2014         409999      80000   \n",
            "4336           Hyundai i20 Magna 1.4 CRDi  2014         409999      80000   \n",
            "4337                  Maruti 800 AC BSIII  2009         110000      83000   \n",
            "4338     Hyundai Creta 1.6 CRDi SX Option  2016         865000      90000   \n",
            "4339                     Renault KWID RXT  2016         225000      40000   \n",
            "\n",
            "        fuel seller_type transmission         owner  \n",
            "0     Petrol  Individual       Manual   First Owner  \n",
            "1     Petrol  Individual       Manual   First Owner  \n",
            "2     Diesel  Individual       Manual   First Owner  \n",
            "3     Petrol  Individual       Manual   First Owner  \n",
            "4     Diesel  Individual       Manual  Second Owner  \n",
            "...      ...         ...          ...           ...  \n",
            "4335  Diesel  Individual       Manual  Second Owner  \n",
            "4336  Diesel  Individual       Manual  Second Owner  \n",
            "4337  Petrol  Individual       Manual  Second Owner  \n",
            "4338  Diesel  Individual       Manual   First Owner  \n",
            "4339  Petrol  Individual       Manual   First Owner  \n",
            "\n",
            "[4340 rows x 8 columns]\n",
            "<bound method DataFrame.info of                                      name  year  selling_price  km_driven  \\\n",
            "0                           Maruti 800 AC  2007          60000      70000   \n",
            "1                Maruti Wagon R LXI Minor  2007         135000      50000   \n",
            "2                    Hyundai Verna 1.6 SX  2012         600000     100000   \n",
            "3                  Datsun RediGO T Option  2017         250000      46000   \n",
            "4                   Honda Amaze VX i-DTEC  2014         450000     141000   \n",
            "...                                   ...   ...            ...        ...   \n",
            "4335  Hyundai i20 Magna 1.4 CRDi (Diesel)  2014         409999      80000   \n",
            "4336           Hyundai i20 Magna 1.4 CRDi  2014         409999      80000   \n",
            "4337                  Maruti 800 AC BSIII  2009         110000      83000   \n",
            "4338     Hyundai Creta 1.6 CRDi SX Option  2016         865000      90000   \n",
            "4339                     Renault KWID RXT  2016         225000      40000   \n",
            "\n",
            "        fuel seller_type transmission         owner  \n",
            "0     Petrol  Individual       Manual   First Owner  \n",
            "1     Petrol  Individual       Manual   First Owner  \n",
            "2     Diesel  Individual       Manual   First Owner  \n",
            "3     Petrol  Individual       Manual   First Owner  \n",
            "4     Diesel  Individual       Manual  Second Owner  \n",
            "...      ...         ...          ...           ...  \n",
            "4335  Diesel  Individual       Manual  Second Owner  \n",
            "4336  Diesel  Individual       Manual  Second Owner  \n",
            "4337  Petrol  Individual       Manual  Second Owner  \n",
            "4338  Diesel  Individual       Manual   First Owner  \n",
            "4339  Petrol  Individual       Manual   First Owner  \n",
            "\n",
            "[4340 rows x 8 columns]>\n"
          ]
        }
      ]
    },
    {
      "cell_type": "code",
      "source": [
        "df.isnull().sum()"
      ],
      "metadata": {
        "colab": {
          "base_uri": "https://localhost:8080/"
        },
        "id": "fs4jnVdz3HUd",
        "outputId": "402f6351-a307-4fdd-d87b-7cbb13515303"
      },
      "execution_count": null,
      "outputs": [
        {
          "output_type": "execute_result",
          "data": {
            "text/plain": [
              "name             0\n",
              "year             0\n",
              "selling_price    0\n",
              "km_driven        0\n",
              "fuel             0\n",
              "seller_type      0\n",
              "transmission     0\n",
              "owner            0\n",
              "dtype: int64"
            ]
          },
          "metadata": {},
          "execution_count": 33
        }
      ]
    },
    {
      "cell_type": "code",
      "source": [
        "duplicates=df.duplicated()\n",
        "df.drop_duplicates(inplace=True)\n",
        "num_duplicated=duplicates.sum()\n",
        "print(num_duplicated)"
      ],
      "metadata": {
        "colab": {
          "base_uri": "https://localhost:8080/"
        },
        "id": "EqMK6W4D3fsS",
        "outputId": "1ef2cee7-4c76-4b15-f82f-5c9dc6d08abf"
      },
      "execution_count": null,
      "outputs": [
        {
          "output_type": "stream",
          "name": "stdout",
          "text": [
            "0\n"
          ]
        }
      ]
    },
    {
      "cell_type": "code",
      "source": [],
      "metadata": {
        "id": "PLYxFlKFYjZb"
      },
      "execution_count": null,
      "outputs": []
    },
    {
      "cell_type": "markdown",
      "source": [],
      "metadata": {
        "id": "N1jj0hmKxkgX"
      }
    }
  ]
}