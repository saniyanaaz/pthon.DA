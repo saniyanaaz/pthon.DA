{
  "nbformat": 4,
  "nbformat_minor": 0,
  "metadata": {
    "colab": {
      "provenance": [],
      "authorship_tag": "ABX9TyMYdmtLTTqotW9wN7MSl65M",
      "include_colab_link": true
    },
    "kernelspec": {
      "name": "python3",
      "display_name": "Python 3"
    },
    "language_info": {
      "name": "python"
    }
  },
  "cells": [
    {
      "cell_type": "markdown",
      "metadata": {
        "id": "view-in-github",
        "colab_type": "text"
      },
      "source": [
        "<a href=\"https://colab.research.google.com/github/saniyanaaz/pthon.DA/blob/main/saniyan.ipynb\" target=\"_parent\"><img src=\"https://colab.research.google.com/assets/colab-badge.svg\" alt=\"Open In Colab\"/></a>"
      ]
    },
    {
      "cell_type": "code",
      "execution_count": null,
      "metadata": {
        "colab": {
          "base_uri": "https://localhost:8080/"
        },
        "id": "lOFgdksrev9M",
        "outputId": "9c023916-4d9e-4918-c30e-65edeff5231b"
      },
      "outputs": [
        {
          "output_type": "stream",
          "name": "stdout",
          "text": [
            "   PassengerId  Survived  Pclass  \\\n",
            "0            1         0       3   \n",
            "1            2         1       1   \n",
            "2            3         1       3   \n",
            "3            4         1       1   \n",
            "4            5         0       3   \n",
            "\n",
            "                                                Name     Sex   Age  SibSp  \\\n",
            "0                            Braund, Mr. Owen Harris    male  22.0      1   \n",
            "1  Cumings, Mrs. John Bradley (Florence Briggs Th...  female  38.0      1   \n",
            "2                             Heikkinen, Miss. Laina  female  26.0      0   \n",
            "3       Futrelle, Mrs. Jacques Heath (Lily May Peel)  female  35.0      1   \n",
            "4                           Allen, Mr. William Henry    male  35.0      0   \n",
            "\n",
            "   Parch            Ticket     Fare Cabin Embarked  \n",
            "0      0         A/5 21171   7.2500   NaN        S  \n",
            "1      0          PC 17599  71.2833   C85        C  \n",
            "2      0  STON/O2. 3101282   7.9250   NaN        S  \n",
            "3      0            113803  53.1000  C123        S  \n",
            "4      0            373450   8.0500   NaN        S  \n",
            "     PassengerId  Survived  Pclass                                      Name  \\\n",
            "886          887         0       2                     Montvila, Rev. Juozas   \n",
            "887          888         1       1              Graham, Miss. Margaret Edith   \n",
            "888          889         0       3  Johnston, Miss. Catherine Helen \"Carrie\"   \n",
            "889          890         1       1                     Behr, Mr. Karl Howell   \n",
            "890          891         0       3                       Dooley, Mr. Patrick   \n",
            "\n",
            "        Sex   Age  SibSp  Parch      Ticket   Fare Cabin Embarked  \n",
            "886    male  27.0      0      0      211536  13.00   NaN        S  \n",
            "887  female  19.0      0      0      112053  30.00   B42        S  \n",
            "888  female   NaN      1      2  W./C. 6607  23.45   NaN        S  \n",
            "889    male  26.0      0      0      111369  30.00  C148        C  \n",
            "890    male  32.0      0      0      370376   7.75   NaN        Q  \n"
          ]
        }
      ],
      "source": [
        "import pandas as pd\n",
        "df = pd.read_csv(\"train.csv\")\n",
        "\n",
        "print(df.head(5))\n",
        "print(df.tail(5))\n"
      ]
    },
    {
      "cell_type": "code",
      "source": [
        "data=df.dropna()\n",
        "print(data)\n",
        "df.info()"
      ],
      "metadata": {
        "colab": {
          "base_uri": "https://localhost:8080/"
        },
        "id": "p2licXxTgdL5",
        "outputId": "93376ac5-acef-4cff-cd28-21f06974851c"
      },
      "execution_count": null,
      "outputs": [
        {
          "output_type": "stream",
          "name": "stdout",
          "text": [
            "     PassengerId  Survived  Pclass                                   Name  \\\n",
            "845          846         0       3                    Abbing, Mr. Anthony   \n",
            "746          747         0       3            Abbott, Mr. Rossmore Edward   \n",
            "279          280         1       3       Abbott, Mrs. Stanton (Rosa Hunt)   \n",
            "308          309         0       2                    Abelson, Mr. Samuel   \n",
            "874          875         1       2  Abelson, Mrs. Samuel (Hannah Wizosky)   \n",
            "..           ...       ...     ...                                    ...   \n",
            "286          287         1       3                de Mulder, Mr. Theodore   \n",
            "282          283         0       3              de Pelsmaeker, Mr. Alfons   \n",
            "361          362         0       2              del Carlo, Mr. Sebastiano   \n",
            "153          154         0       3        van Billiard, Mr. Austin Blyler   \n",
            "868          869         0       3            van Melkebeke, Mr. Philemon   \n",
            "\n",
            "        Sex  Age  SibSp  Parch         Ticket     Fare  Cabin Embarked  \n",
            "845    male   42      0      0      C.A. 5547   7.5500      1        S  \n",
            "746    male   16      1      1      C.A. 2673  20.2500      1        S  \n",
            "279  female   35      1      1      C.A. 2673  20.2500      1        S  \n",
            "308    male   30      1      0      P/PP 3381  24.0000      1        C  \n",
            "874  female   28      1      0      P/PP 3381  24.0000      1        C  \n",
            "..      ...  ...    ...    ...            ...      ...    ...      ...  \n",
            "286    male   30      0      0         345774   9.5000      1        S  \n",
            "282    male   16      0      0         345778   9.5000      1        S  \n",
            "361    male   29      1      0  SC/PARIS 2167  27.7208      1        C  \n",
            "153    male   40      0      2       A/5. 851  14.5000      1        S  \n",
            "868    male   35      0      0         345777   9.5000      1        S  \n",
            "\n",
            "[891 rows x 12 columns]\n",
            "<class 'pandas.core.frame.DataFrame'>\n",
            "Int64Index: 891 entries, 845 to 868\n",
            "Data columns (total 12 columns):\n",
            " #   Column       Non-Null Count  Dtype  \n",
            "---  ------       --------------  -----  \n",
            " 0   PassengerId  891 non-null    int64  \n",
            " 1   Survived     891 non-null    int64  \n",
            " 2   Pclass       891 non-null    int64  \n",
            " 3   Name         891 non-null    object \n",
            " 4   Sex          891 non-null    object \n",
            " 5   Age          891 non-null    int64  \n",
            " 6   SibSp        891 non-null    int64  \n",
            " 7   Parch        891 non-null    int64  \n",
            " 8   Ticket       891 non-null    object \n",
            " 9   Fare         891 non-null    float64\n",
            " 10  Cabin        891 non-null    int64  \n",
            " 11  Embarked     891 non-null    object \n",
            "dtypes: float64(1), int64(7), object(4)\n",
            "memory usage: 90.5+ KB\n"
          ]
        }
      ]
    },
    {
      "cell_type": "code",
      "source": [
        "df.isnull().sum()"
      ],
      "metadata": {
        "colab": {
          "base_uri": "https://localhost:8080/"
        },
        "id": "kXxQx4WCinqL",
        "outputId": "4bfcaec6-5890-4632-c88f-56e254d1a685"
      },
      "execution_count": null,
      "outputs": [
        {
          "output_type": "execute_result",
          "data": {
            "text/plain": [
              "PassengerId      0\n",
              "Survived         0\n",
              "Pclass           0\n",
              "Name             0\n",
              "Sex              0\n",
              "Age            177\n",
              "SibSp            0\n",
              "Parch            0\n",
              "Ticket           0\n",
              "Fare             0\n",
              "Cabin          687\n",
              "Embarked         2\n",
              "dtype: int64"
            ]
          },
          "metadata": {},
          "execution_count": 14
        }
      ]
    },
    {
      "cell_type": "code",
      "source": [
        "\n",
        "df['Age'].fillna(data['Age'].mean(),inplace=True)\n",
        "df['Cabin']=df['Cabin'].notnull().astype(int)\n",
        "df['Embarked'].fillna(df['Embarked'].mode()[0],inplace=True)"
      ],
      "metadata": {
        "id": "FyaeW6-Kg05g"
      },
      "execution_count": null,
      "outputs": []
    },
    {
      "cell_type": "code",
      "source": [
        "df.isnull().sum()"
      ],
      "metadata": {
        "colab": {
          "base_uri": "https://localhost:8080/"
        },
        "id": "zf1nD01li45w",
        "outputId": "b90ea29b-0424-4d81-9830-0caf6a9b8cee"
      },
      "execution_count": null,
      "outputs": [
        {
          "output_type": "execute_result",
          "data": {
            "text/plain": [
              "PassengerId    0\n",
              "Survived       0\n",
              "Pclass         0\n",
              "Name           0\n",
              "Sex            0\n",
              "Age            0\n",
              "SibSp          0\n",
              "Parch          0\n",
              "Ticket         0\n",
              "Fare           0\n",
              "Cabin          0\n",
              "Embarked       0\n",
              "dtype: int64"
            ]
          },
          "metadata": {},
          "execution_count": 21
        }
      ]
    },
    {
      "cell_type": "code",
      "source": [
        "duplicates=df.duplicated()\n",
        "df.drop_duplicates(inplace=True)\n",
        "num_duplicates=duplicates.sum()\n",
        "print(num_duplicates)"
      ],
      "metadata": {
        "colab": {
          "base_uri": "https://localhost:8080/"
        },
        "id": "49PWoIJElYnJ",
        "outputId": "7f3a7bb3-e31d-4bfb-e6f1-1962d442dc14"
      },
      "execution_count": null,
      "outputs": [
        {
          "output_type": "stream",
          "name": "stdout",
          "text": [
            "0\n"
          ]
        }
      ]
    },
    {
      "cell_type": "code",
      "source": [
        "df= df.sort_index(ascending=[True])\n",
        "df=df.sort_values(['Name'],ascending=[True])\n",
        "print(df)\n",
        "df['Age']=df['Age'].astype(int)\n",
        "print(df.head)"
      ],
      "metadata": {
        "colab": {
          "base_uri": "https://localhost:8080/"
        },
        "id": "76MpBKGFnjDM",
        "outputId": "2e25759e-dd7f-4a92-a4ac-8357b467d25b"
      },
      "execution_count": null,
      "outputs": [
        {
          "output_type": "stream",
          "name": "stdout",
          "text": [
            "     PassengerId  Survived  Pclass                                   Name  \\\n",
            "845          846         0       3                    Abbing, Mr. Anthony   \n",
            "746          747         0       3            Abbott, Mr. Rossmore Edward   \n",
            "279          280         1       3       Abbott, Mrs. Stanton (Rosa Hunt)   \n",
            "308          309         0       2                    Abelson, Mr. Samuel   \n",
            "874          875         1       2  Abelson, Mrs. Samuel (Hannah Wizosky)   \n",
            "..           ...       ...     ...                                    ...   \n",
            "286          287         1       3                de Mulder, Mr. Theodore   \n",
            "282          283         0       3              de Pelsmaeker, Mr. Alfons   \n",
            "361          362         0       2              del Carlo, Mr. Sebastiano   \n",
            "153          154         0       3        van Billiard, Mr. Austin Blyler   \n",
            "868          869         0       3            van Melkebeke, Mr. Philemon   \n",
            "\n",
            "        Sex  Age  SibSp  Parch         Ticket     Fare  Cabin Embarked  \n",
            "845    male   42      0      0      C.A. 5547   7.5500      1        S  \n",
            "746    male   16      1      1      C.A. 2673  20.2500      1        S  \n",
            "279  female   35      1      1      C.A. 2673  20.2500      1        S  \n",
            "308    male   30      1      0      P/PP 3381  24.0000      1        C  \n",
            "874  female   28      1      0      P/PP 3381  24.0000      1        C  \n",
            "..      ...  ...    ...    ...            ...      ...    ...      ...  \n",
            "286    male   30      0      0         345774   9.5000      1        S  \n",
            "282    male   16      0      0         345778   9.5000      1        S  \n",
            "361    male   29      1      0  SC/PARIS 2167  27.7208      1        C  \n",
            "153    male   40      0      2       A/5. 851  14.5000      1        S  \n",
            "868    male   35      0      0         345777   9.5000      1        S  \n",
            "\n",
            "[891 rows x 12 columns]\n",
            "<bound method NDFrame.head of      PassengerId  Survived  Pclass                                   Name  \\\n",
            "845          846         0       3                    Abbing, Mr. Anthony   \n",
            "746          747         0       3            Abbott, Mr. Rossmore Edward   \n",
            "279          280         1       3       Abbott, Mrs. Stanton (Rosa Hunt)   \n",
            "308          309         0       2                    Abelson, Mr. Samuel   \n",
            "874          875         1       2  Abelson, Mrs. Samuel (Hannah Wizosky)   \n",
            "..           ...       ...     ...                                    ...   \n",
            "286          287         1       3                de Mulder, Mr. Theodore   \n",
            "282          283         0       3              de Pelsmaeker, Mr. Alfons   \n",
            "361          362         0       2              del Carlo, Mr. Sebastiano   \n",
            "153          154         0       3        van Billiard, Mr. Austin Blyler   \n",
            "868          869         0       3            van Melkebeke, Mr. Philemon   \n",
            "\n",
            "        Sex  Age  SibSp  Parch         Ticket     Fare  Cabin Embarked  \n",
            "845    male   42      0      0      C.A. 5547   7.5500      1        S  \n",
            "746    male   16      1      1      C.A. 2673  20.2500      1        S  \n",
            "279  female   35      1      1      C.A. 2673  20.2500      1        S  \n",
            "308    male   30      1      0      P/PP 3381  24.0000      1        C  \n",
            "874  female   28      1      0      P/PP 3381  24.0000      1        C  \n",
            "..      ...  ...    ...    ...            ...      ...    ...      ...  \n",
            "286    male   30      0      0         345774   9.5000      1        S  \n",
            "282    male   16      0      0         345778   9.5000      1        S  \n",
            "361    male   29      1      0  SC/PARIS 2167  27.7208      1        C  \n",
            "153    male   40      0      2       A/5. 851  14.5000      1        S  \n",
            "868    male   35      0      0         345777   9.5000      1        S  \n",
            "\n",
            "[891 rows x 12 columns]>\n"
          ]
        }
      ]
    },
    {
      "cell_type": "code",
      "source": [
        "import matplotlib.pyplot as plt\n",
        "\n",
        "# Scatter plot\n",
        "plt.scatter(df['Age'], df['Fare'])\n",
        "plt.title('Scatter Plot: Fare vs. Age')\n",
        "plt.xlabel('Age')\n",
        "plt.ylabel('Fare')\n",
        "plt.show()\n"
      ],
      "metadata": {
        "id": "uSiWA8jgpZcC",
        "colab": {
          "base_uri": "https://localhost:8080/",
          "height": 472
        },
        "outputId": "6262199b-8fcd-40c1-aa41-1de1134667ab"
      },
      "execution_count": null,
      "outputs": [
        {
          "output_type": "display_data",
          "data": {
            "text/plain": [
              "<Figure size 640x480 with 1 Axes>"
            ],
            "image/png": "[encoded data removed]"
          },
          "metadata": {}
        }
      ]
    },
    {
      "cell_type": "code",
      "source": [
        "import matplotlib.pyplot as plt\n",
        "\n",
        "# Bar plot\n",
        "class_counts = df['Pclass'].value_counts()\n",
        "plt.bar(class_counts.index, class_counts.values,color = 'hotpink',width = 0.5)\n",
        "plt.title('Bar Plot: Passenger Count by Class')\n",
        "plt.xlabel('Class')\n",
        "plt.ylabel('Count')\n",
        "plt.show()\n"
      ],
      "metadata": {
        "colab": {
          "base_uri": "https://localhost:8080/",
          "height": 472
        },
        "id": "j6nMSNmesg0h",
        "outputId": "02d56db4-dfce-40a6-ef20-1ebdeba07bd8"
      },
      "execution_count": null,
      "outputs": [
        {
          "output_type": "display_data",
          "data": {
            "text/plain": [
              "<Figure size 640x480 with 1 Axes>"
            ],
            "image/png": "[encoded data removed]"
          },
          "metadata": {}
        }
      ]
    }
  ]
}